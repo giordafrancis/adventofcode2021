{
 "cells": [
  {
   "cell_type": "code",
   "execution_count": 122,
   "id": "f2c61340",
   "metadata": {},
   "outputs": [],
   "source": [
    "from itertools import cycle\n",
    "from dataclasses import dataclass\n",
    "from typing import List, Dict\n",
    "\n",
    "# PART1 -> Overcooked the fish :) \n",
    "# Cannot model the probel as P2 will eact too much mem\n",
    "\n",
    "RAW = \"\"\"3,4,3,1,2\"\"\"\n",
    "\n",
    "@dataclass\n",
    "class Shoal:\n",
    "    shoal:List['LanternFish']\n",
    "    \n",
    "    @staticmethod\n",
    "    def parse_shoal(inputs:str):\n",
    "        return [\n",
    "            LanternFish(curr_cycle=int(cycle))\n",
    "            for cycle in inputs.split(\",\")\n",
    "        ]\n",
    "    \n",
    "    def maternity_ward(self):\n",
    "        \"\"\"\n",
    "        Checks for in gestation flags within \n",
    "        shoal, extends shoal by n in gestation \n",
    "        flags found\n",
    "        \"\"\"\n",
    "        new_shoal = self.shoal[:]\n",
    "        baby_fish = []\n",
    "        for lf in new_shoal:\n",
    "            if lf.gestation:\n",
    "                baby_fish.append(LanternFish(curr_cycle=8))\n",
    "        new_shoal.extend(baby_fish)\n",
    "        self.shoal = new_shoal[:]\n",
    "    \n",
    "    def run_shoal_cycles(self):\n",
    "        \n",
    "        for lf in self.shoal:\n",
    "            lf.run_cycle()\n",
    "        self.maternity_ward()\n",
    "        \n",
    "\n",
    "        \n",
    "class LanternFish:\n",
    "    \n",
    "    def __init__(self, curr_cycle:bool=False, \n",
    "                 is_parent:bool=False):\n",
    "        self.is_parent = is_parent\n",
    "        self.gestation = False\n",
    "        self.curr_cycle = curr_cycle\n",
    "        self.create_cycles()\n",
    "        self.run_cycle()\n",
    "\n",
    "    def create_cycles(self):\n",
    "        \"\"\"\n",
    "        Counts lantership cycles\n",
    "        if parent -> cycles will last 7 days\n",
    "        9 days if fish never been a parent before\n",
    "        \"\"\"\n",
    "        \n",
    "        if self.curr_cycle > 0:\n",
    "            self.cycles = iter(range(self.curr_cycle, -1, -1))\n",
    "            self.curr_cycle = 0\n",
    "        else:\n",
    "            #print('in here cc', self.latest)\n",
    "            self.cycles = iter(range(6,-1, -1))\n",
    "            self.latest = next(self.cycles)\n",
    "    \n",
    "    def __repr__(self):\n",
    "        return f\"{self.latest}\"\n",
    "            \n",
    "            \n",
    "    def run_cycle(self):\n",
    "        \"\"\"\n",
    "        run cycles\n",
    "        \"\"\"\n",
    "        try: \n",
    "            latest = next(self.cycles)\n",
    "            #print('in rc', latest)\n",
    "            self.gestation = False\n",
    "            self.latest = latest\n",
    "        except StopIteration:\n",
    "            self.gestation = True\n",
    "            self.create_cycles()"
   ]
  },
  {
   "cell_type": "code",
   "execution_count": 116,
   "id": "88efa759",
   "metadata": {},
   "outputs": [
    {
     "name": "stdout",
     "output_type": "stream",
     "text": [
      "p1 360761\n"
     ]
    }
   ],
   "source": [
    "s = Shoal(shoal=Shoal.parse_shoal(inputs=RAW))\n",
    "for _ in range(80):\n",
    "    s.run_shoal_cycles()\n",
    "assert len(s.shoal) == 5934\n",
    "\n",
    "with open('inputs/day6.txt') as f:\n",
    "    PUZZLE = f.read()\n",
    "    S = Shoal(shoal=Shoal.parse_shoal(inputs=PUZZLE))\n",
    "    for _ in range(80):\n",
    "        S.run_shoal_cycles()\n",
    "    print(\"p1\", len(S.shoal))"
   ]
  },
  {
   "cell_type": "code",
   "execution_count": 123,
   "id": "f7b2fd2c",
   "metadata": {},
   "outputs": [],
   "source": [
    "# Prt 2 UNABLE TO RESOLVE AS MODELLED FISH AS OBJECTS\n",
    "# too much memmory!!!\n",
    "\n",
    "# copied from JG solution\n",
    "\n",
    "# step 1 intial counts modeld as a counter on postiions 0 to 8\n",
    "# for each step\n",
    "# new counts will move counts to the left by 1 space [2,1,0....] -> [1, 0, ...]\n",
    "# new count of 6s will be previous step count of 0s + 5s\n",
    "# count of 8s will be previous count of 0s + 5s"
   ]
  },
  {
   "cell_type": "code",
   "execution_count": 125,
   "id": "a05f8fc2",
   "metadata": {},
   "outputs": [],
   "source": [
    "class LanternFish:\n",
    "    \"\"\"\n",
    "    Using Dict\n",
    "    \"\"\"\n",
    "    def __init__(self, timers:Dict[int, int])->None:\n",
    "        self.timers = {i:0 for i in range(9)}\n",
    "        for timer in timers:\n",
    "            self.timers[timer] += 1\n",
    "        #print(self.timers)\n",
    "    def step(self)->None:\n",
    "        new_timers = {i-1: counts # move counts 1 to left\n",
    "                      for i, counts in self.timers.items()\n",
    "                      if i > 0} # exclude count 0\n",
    "        \n",
    "        new_timers[8] = 0 \n",
    "        new_timers[8] += self.timers[0] # add previous count of 0s to existing 8s\n",
    "        new_timers[6] += self.timers[0] # '' '' 0s to existing 6s\n",
    "        self.timers = new_timers\n",
    "        #print(self.timers)\n",
    "    def count(self) -> int:\n",
    "        return sum(self.timers.values())\n",
    "\n",
    "class LanternFish:\n",
    "    \n",
    "    def __init__(self, timers:List[int])->None:\n",
    "        self.timers = [0 for _ in range(9)]\n",
    "        for timer in timers:\n",
    "            self.timers[timer] += 1\n",
    "        #print(self.timers)\n",
    "    def step(self)->None:\n",
    "        new_timers = self.timers[1:] + [0]\n",
    "        new_timers[8] += self.timers[0]\n",
    "        new_timers[6] += self.timers[0]\n",
    "        self.timers = new_timers\n",
    "        #print(self.timers)\n",
    "    def count(self) -> int:\n",
    "        return sum(self.timers)"
   ]
  },
  {
   "cell_type": "code",
   "execution_count": 114,
   "id": "5f3a2831",
   "metadata": {},
   "outputs": [
    {
     "data": {
      "text/plain": [
       "1632779838045"
      ]
     },
     "execution_count": 114,
     "metadata": {},
     "output_type": "execute_result"
    }
   ],
   "source": [
    "INPUTS = [int(num) for num in PUZZLE.split(\",\")]\n",
    "LF = LanternFish(INPUTS)\n",
    "for n in range(256):\n",
    "    LF.step()\n",
    "LF.count()"
   ]
  }
 ],
 "metadata": {
  "kernelspec": {
   "display_name": "Python 3",
   "language": "python",
   "name": "python3"
  },
  "language_info": {
   "codemirror_mode": {
    "name": "ipython",
    "version": 3
   },
   "file_extension": ".py",
   "mimetype": "text/x-python",
   "name": "python",
   "nbconvert_exporter": "python",
   "pygments_lexer": "ipython3",
   "version": "3.8.12"
  }
 },
 "nbformat": 4,
 "nbformat_minor": 5
}
