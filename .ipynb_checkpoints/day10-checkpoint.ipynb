{
 "cells": [
  {
   "cell_type": "code",
   "execution_count": 37,
   "id": "0e9140c2-e452-4f09-867b-31c111a71def",
   "metadata": {},
   "outputs": [],
   "source": [
    "RAW = \"\"\"[({(<(())[]>[[{[]{<()<>>\n",
    "[(()[<>])]({[<{<<[]>>(\n",
    "{([(<{}[<>[]}>{[]{[(<()>\n",
    "(((({<>}<{<{<>}{[]{[]{}\n",
    "[[<[([]))<([[{}[[()]]]\n",
    "[{[{({}]{}}([{[{{{}}([]\n",
    "{<[[]]>}<{[{[{[]{()[[[]\n",
    "[<(<(<(<{}))><([]([]()\n",
    "<{([([[(<>()){}]>(<<{{\n",
    "<{([{{}}[<[[[<>{}]]]>[]]\"\"\""
   ]
  },
  {
   "cell_type": "code",
   "execution_count": 38,
   "id": "7070e4e2-4979-4509-9640-3812f7d7074d",
   "metadata": {},
   "outputs": [],
   "source": [
    "from collections import Counter\n",
    "from typing import Optional"
   ]
  },
  {
   "cell_type": "code",
   "execution_count": 48,
   "id": "11c4a09d-0de3-47b4-84e6-94b63136a02b",
   "metadata": {},
   "outputs": [],
   "source": [
    "# PART 1 - checks JD method\n",
    "OC = {\"[\": \"]\", \"(\": \")\", \"<\": \">\", \"{\": \"}\"}\n",
    "SCORE = {\n",
    "        \")\":3,\n",
    "        \"]\":57,\n",
    "        \"}\":1197,\n",
    "        \">\":25137}\n",
    "\n",
    "def first_illegal_character(s: str) -> Optional[str]:\n",
    "    stack = []\n",
    "    for c in s:\n",
    "        if c in OC: # its an open char\n",
    "            stack.append(c)\n",
    "        else: # its a close char\n",
    "            if not stack or OC[stack.pop()] != c:\n",
    "                return c\n",
    "    return None\n",
    "\n",
    "\n",
    "def total_score(lines:list[str])->int:\n",
    "    total_score = 0\n",
    "    for line in lines:\n",
    "        if fic := first_illegal_character(line):\n",
    "            score = SCORE[fic]\n",
    "            total_score += score\n",
    "    return total_score\n",
    "                "
   ]
  },
  {
   "cell_type": "code",
   "execution_count": 49,
   "id": "c0424114-6dba-40f1-a41a-530fe16521b1",
   "metadata": {},
   "outputs": [],
   "source": [
    "LINES = RAW.splitlines()\n",
    "assert total_score(LINES) == 26397"
   ]
  },
  {
   "cell_type": "code",
   "execution_count": null,
   "id": "de0c1fed-84ac-4ff1-b545-906f5c9f42f4",
   "metadata": {},
   "outputs": [],
   "source": []
  }
 ],
 "metadata": {
  "kernelspec": {
   "display_name": "Python 3 (ipykernel)",
   "language": "python",
   "name": "python3"
  },
  "language_info": {
   "codemirror_mode": {
    "name": "ipython",
    "version": 3
   },
   "file_extension": ".py",
   "mimetype": "text/x-python",
   "name": "python",
   "nbconvert_exporter": "python",
   "pygments_lexer": "ipython3",
   "version": "3.9.2"
  }
 },
 "nbformat": 4,
 "nbformat_minor": 5
}
