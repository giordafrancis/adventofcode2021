{
 "cells": [
  {
   "cell_type": "code",
   "execution_count": 69,
   "metadata": {},
   "outputs": [
    {
     "name": "stdout",
     "output_type": "stream",
     "text": [
      "part1 41668.0\n",
      "99\n",
      "{0, 1, 2, 3, 4, 5, 6, 7, 8, 9, 10, 11, 12, 13, 15, 16, 17, 18, 19, 20, 21, 22, 23, 24, 25, 26, 27, 28, 29, 30, 31, 32, 33, 34, 35, 36, 37, 38, 39, 40, 41, 42, 43, 44, 45, 46, 47, 48, 49, 50, 51, 52, 53, 54, 55, 56, 57, 58, 59, 60, 61, 62, 63, 64, 65, 66, 67, 68, 69, 70, 71, 72, 73, 74, 75, 76, 77, 78, 79, 80, 81, 82, 83, 84, 85, 86, 87, 88, 89, 90, 91, 92, 93, 94, 95, 96, 97, 98, 99}\n",
      "part2 12969.0\n"
     ]
    }
   ],
   "source": [
    "import numpy as np\n",
    "from dataclasses import dataclass\n",
    "\n",
    "from typing import List, Dict, Union\n",
    "\n",
    "\n",
    "RAW = \"\"\"7,4,9,5,11,17,23,2,0,14,21,24,10,16,13,6,15,25,12,22,18,20,8,19,3,26,1\n",
    "\n",
    "22 13 17 11  0\n",
    " 8  2 23  4 24\n",
    "21  9 14 16  7\n",
    " 6 10  3 18  5\n",
    " 1 12 20 15 19\n",
    "\n",
    " 3 15  0  2 22\n",
    " 9 18 13 17  5\n",
    "19  8  7 25 23\n",
    "20 11 10 24  4\n",
    "14 21 16 12  6\n",
    "\n",
    "14 21 17 24  4\n",
    "10 16 15  9 19\n",
    "18  8 23 26 20\n",
    "22 11 13  6  5\n",
    " 2  0 12  3  7\"\"\"\n",
    "\n",
    "@dataclass\n",
    "class Board():\n",
    "    \"\"\"\n",
    "    Board class for a bingo game\n",
    "    A 5 x 5 board is instanciated\n",
    "    \"\"\"\n",
    "    board:np.array\n",
    "    row_count:np.array=np.zeros(shape=(5,))\n",
    "    col_count:np.array=np.zeros(shape=(5,))\n",
    "        \n",
    "    \n",
    "    def update_count(self, number:int):\n",
    "        new_board = self.board.copy()\n",
    "        new_board = np.where(new_board==number, np.nan, new_board)\n",
    "        cond = np.isnan(new_board)\n",
    "        self.row_count = np.nansum(cond, axis=1)\n",
    "        self.col_count = np.nansum(cond, axis=0)\n",
    "        self.board = new_board\n",
    "\n",
    "\n",
    "class Bingo():\n",
    "    \"\"\"\n",
    "    Plays Bing game for boards\n",
    "    instantiated.\n",
    "    \"\"\"\n",
    "    def __init__(self, raw):\n",
    "        self.text = raw\n",
    "        self._numbers: List[int] = self.parse_numbers(self.text)\n",
    "        self.numbers:List[int] = self._numbers.copy()\n",
    "        self.boards:List[Board] = self.parse_boards(self.text)\n",
    "\n",
    "    def parse_numbers(self, text:str)->List[int]:\n",
    "        numbers = text.splitlines()\n",
    "        return [int(num) for num in numbers[0].split(\",\")][::-1]\n",
    "\n",
    "    def parse_boards(self, text:str)->List[np.array]:\n",
    "        data = text.splitlines()\n",
    "        raw_boards = []\n",
    "        for board in data[1:]:\n",
    "            if board:\n",
    "                raw_boards.append([int(num) for num in  board.split(\" \") if num])\n",
    "        boards  = np.array(raw_boards).reshape((len(raw_boards)//5, 5, 5))\n",
    "        return [Board(board) for board in boards]\n",
    "        \n",
    "    def draw_number(self)->int:\n",
    "        return self.numbers.pop() if self.numbers else []\n",
    "        \n",
    "    def score(self, board:Board, number:int)->int:\n",
    "        new_board = board.board.copy()\n",
    "        unmarked_sum = np.nansum(new_board)\n",
    "        print(f'score is ', unmarked_sum, number)\n",
    "        return unmarked_sum * number        \n",
    "    \n",
    "    \n",
    "    def game_win_first(self)-> Union[int, str]:\n",
    "        number = self.draw_number()\n",
    "        #boards = []\n",
    "        while isinstance(number, int):\n",
    "            for board in self.boards:\n",
    "                board.update_count(number=number)\n",
    "                #boards.append([(number, board.board)])\n",
    "                if np.any(board.row_count == 5) or np.any(board.col_count == 5):\n",
    "                    return self.score(board=board, number=number)\n",
    "            number = self.draw_number()\n",
    "        #self.history = boards\n",
    "        return \"no winners found\"\n",
    "    \n",
    "    def game_win_last(self)-> Union[int, str]:\n",
    "        number = self.draw_number()\n",
    "        last_board = len(self.boards) - 1\n",
    "        completed = set()\n",
    "        while True:\n",
    "            for i, board in enumerate(self.boards):\n",
    "                if i in completed:\n",
    "                    continue\n",
    "                else:\n",
    "                    board.update_count(number=number)\n",
    "                #boards.append([(number, board.board)])\n",
    "                if np.any(board.row_count == 5) or np.any(board.col_count == 5):\n",
    "                    completed.add(i)\n",
    "                    if len(completed) == last_board:\n",
    "                        print(len(completed))\n",
    "                        print(completed)\n",
    "                        return self.score(board=board, number=number) \n",
    "            else:\n",
    "                number = self.draw_number()\n",
    "\n",
    "b = Bingo(raw=RAW)\n",
    "assert b.game_win_first() == 4512\n",
    "\n",
    "with open('inputs/day4.txt') as file:\n",
    "    PUZZLE = file.read()\n",
    "    B = Bingo(raw=PUZZLE)\n",
    "    print('part1', B.game_win_first())\n",
    "    print('part2', B.game_win_last())"
   ]
  },
  {
   "cell_type": "code",
   "execution_count": 70,
   "metadata": {},
   "outputs": [],
   "source": [
    "b = Bingo(RAW)"
   ]
  },
  {
   "cell_type": "code",
   "execution_count": 71,
   "metadata": {},
   "outputs": [
    {
     "name": "stdout",
     "output_type": "stream",
     "text": [
      "2\n",
      "{0, 2}\n"
     ]
    },
    {
     "data": {
      "text/plain": [
       "2192.0"
      ]
     },
     "execution_count": 71,
     "metadata": {},
     "output_type": "execute_result"
    }
   ],
   "source": [
    "b.game_win_last()"
   ]
  },
  {
   "cell_type": "code",
   "execution_count": 33,
   "metadata": {},
   "outputs": [],
   "source": [
    "d = {i: i+ 1 for i in range(10)}"
   ]
  },
  {
   "cell_type": "code",
   "execution_count": 34,
   "metadata": {},
   "outputs": [
    {
     "data": {
      "text/plain": [
       "10"
      ]
     },
     "execution_count": 34,
     "metadata": {},
     "output_type": "execute_result"
    }
   ],
   "source": [
    "len(d)"
   ]
  },
  {
   "cell_type": "code",
   "execution_count": 31,
   "metadata": {},
   "outputs": [
    {
     "data": {
      "text/plain": [
       "{}"
      ]
     },
     "execution_count": 31,
     "metadata": {},
     "output_type": "execute_result"
    }
   ],
   "source": [
    "d"
   ]
  },
  {
   "cell_type": "code",
   "execution_count": null,
   "metadata": {},
   "outputs": [],
   "source": []
  }
 ],
 "metadata": {
  "kernelspec": {
   "display_name": "Python 3",
   "language": "python",
   "name": "python3"
  },
  "language_info": {
   "codemirror_mode": {
    "name": "ipython",
    "version": 3
   },
   "file_extension": ".py",
   "mimetype": "text/x-python",
   "name": "python",
   "nbconvert_exporter": "python",
   "pygments_lexer": "ipython3",
   "version": "3.8.12"
  }
 },
 "nbformat": 4,
 "nbformat_minor": 4
}
