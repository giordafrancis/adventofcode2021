{
 "cells": [
  {
   "cell_type": "code",
   "execution_count": 13,
   "id": "a87ee629-3782-421c-8119-85f7353c749d",
   "metadata": {},
   "outputs": [
    {
     "data": {
      "text/plain": [
       "'\\nhttps://adventofcode.com/2021/day/3\\n'"
      ]
     },
     "execution_count": 13,
     "metadata": {},
     "output_type": "execute_result"
    }
   ],
   "source": [
    "\"\"\"\n",
    "https://adventofcode.com/2021/day/3\n",
    "\"\"\""
   ]
  },
  {
   "cell_type": "markdown",
   "id": "3c5b71bd-679b-425c-b659-a06effeda032",
   "metadata": {},
   "source": [
    "# PART 1:\n",
    "\n",
    "- Aim is to calculate the power consumption via the product of the gamma and epsilon rate.\n",
    " - most common bit(value) in the index direction. For each column\n",
    " - concatenated  all for gamma rate\n",
    " - convert bit to decimal\n",
    " \n",
    " - epsilon rate the same steps but the least common"
   ]
  },
  {
   "cell_type": "code",
   "execution_count": 14,
   "id": "c192c34c-9b93-4ec4-9522-db4533b2dc76",
   "metadata": {},
   "outputs": [],
   "source": [
    "RAW = \"\"\"00100\n",
    "11110\n",
    "10110\n",
    "10111\n",
    "10101\n",
    "01111\n",
    "00111\n",
    "11100\n",
    "10000\n",
    "11001\n",
    "00010\n",
    "01010\"\"\"\n",
    "\n",
    "LINES = [bit for bit in RAW.split(\"\\n\")]\n",
    "\n",
    "from collections import Counter\n",
    "\n",
    "def get_bit_from_text(text:str):\n",
    "    LINES = [bit for bit in RAW.split(\"\\n\")]\n",
    "    size_number = len(LINES)\n",
    "    L = len(LINES[0])\n",
    "    most_common = {}\n",
    "\n",
    "    for i in range(L):\n",
    "        most_common[i] = list()\n",
    "        for j in range(size_number):\n",
    "              most_common[i].append(LINES[j][i])\n",
    "        most_common[i] = Counter(most_common[i]).most_common()\n",
    "    return most_common\n",
    "\n",
    "def gamma_epsilon(most_common:dict[int:list[tuple[str, int]]]):\n",
    "    gamma, epsilon = list(), list()\n",
    "    for i, mc in most_common.items():\n",
    "        gamma.append(mc[0][0])\n",
    "        epsilon.append(mc[1][0])\n",
    "    gamma = int(\"\".join(gamma), 2)\n",
    "    epsilon = int(\"\".join(epsilon), 2)\n",
    "    return gamma, epsilon\n",
    "    \n",
    "\n",
    "most_common = get_bit_from_text(RAW)\n",
    "gamma, epsilon = gamma_epsilon(most_common=most_common)\n",
    "\n",
    "assert gamma * epsilon == 198"
   ]
  },
  {
   "cell_type": "markdown",
   "id": "cb8e28e9-bbd7-45d7-a653-b196695722d5",
   "metadata": {},
   "source": [
    "# Part 2"
   ]
  },
  {
   "cell_type": "code",
   "execution_count": 15,
   "id": "a34b0b96-5c2b-46d0-84cc-54cd367b8f7f",
   "metadata": {},
   "outputs": [],
   "source": [
    "# cheating? \n",
    "import pandas as pd\n"
   ]
  },
  {
   "cell_type": "code",
   "execution_count": 16,
   "id": "16934312-7342-4362-ae6c-9c313b8857b0",
   "metadata": {},
   "outputs": [],
   "source": [
    "# create frame from RAW\n",
    "df = pd.DataFrame([list(l) for l in LINES])\n",
    "\n",
    "def subset_number_by_most_common(df:pd.DataFrame, j:int, rating)-> pd.DataFrame:\n",
    "    temp_df = df.copy()\n",
    "    counter = temp_df[j].value_counts()\n",
    "    val_0, val_1 = counter.get('0', 0), counter.get('1', 0)\n",
    "    if rating == 'O2':\n",
    "        if val_0 > val_1:\n",
    "            final_df = temp_df[temp_df[j] == '0']\n",
    "        else:\n",
    "            final_df = temp_df[temp_df[j] == '1']\n",
    "    elif rating == 'CO2':\n",
    "        if val_0 <= val_1:\n",
    "            final_df = temp_df[temp_df[j] == '0']\n",
    "        else:\n",
    "            final_df = temp_df[temp_df[j] == '1']\n",
    "    else:\n",
    "        raise NotImplementedError('Only  CO2 or O2 ratings are implemented')\n",
    "    return final_df\n",
    "            "
   ]
  },
  {
   "cell_type": "code",
   "execution_count": 17,
   "id": "051f6dae-d001-463e-b988-6bdced4ebc07",
   "metadata": {},
   "outputs": [],
   "source": [
    "def get_rating(df:pd.DataFrame, rating:str):\n",
    "    \n",
    "    temp_df = df.copy()\n",
    "    _, J = temp_df.shape\n",
    "    for j in range(J):\n",
    "        temp_df = subset_number_by_most_common(df=temp_df,\n",
    "                                               j=j,\n",
    "                                               rating=rating)\n",
    "        if len(temp_df) == 1:\n",
    "            return temp_df.values[0]"
   ]
  },
  {
   "cell_type": "code",
   "execution_count": 19,
   "id": "694bd48b-5510-42bd-ae91-f4bcbc3f16c7",
   "metadata": {},
   "outputs": [
    {
     "name": "stdout",
     "output_type": "stream",
     "text": [
      "p1 4191876\n",
      "p2 3414905\n"
     ]
    }
   ],
   "source": [
    "with open('inputs/day3.txt') as f:\n",
    "    RAW = f.read()\n",
    "    most_common = get_bit_from_text(RAW)\n",
    "    gamma, epsilon = gamma_epsilon(most_common=most_common)\n",
    "    power = gamma * epsilon\n",
    "    print(\"p1\", power)\n",
    "    df = pd.DataFrame([list(line)  \n",
    "                        for line in RAW.split(\"\\n\")\n",
    "                        if line])\n",
    "    o2, co2  = get_rating(df,'O2'), get_rating(df,'CO2')\n",
    "    life_support_rat = int(\"\".join(o2), 2) * int(\"\".join(co2), 2)\n",
    "    print(\"p2\", life_support_rat)"
   ]
  },
  {
   "cell_type": "code",
   "execution_count": null,
   "id": "b55077d9-05b4-46c6-836e-24f6e80f56ca",
   "metadata": {},
   "outputs": [],
   "source": []
  }
 ],
 "metadata": {
  "kernelspec": {
   "display_name": "Python 3 (ipykernel)",
   "language": "python",
   "name": "python3"
  },
  "language_info": {
   "codemirror_mode": {
    "name": "ipython",
    "version": 3
   },
   "file_extension": ".py",
   "mimetype": "text/x-python",
   "name": "python",
   "nbconvert_exporter": "python",
   "pygments_lexer": "ipython3",
   "version": "3.9.2"
  }
 },
 "nbformat": 4,
 "nbformat_minor": 5
}
