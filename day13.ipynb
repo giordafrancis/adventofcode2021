{
 "cells": [
  {
   "cell_type": "code",
   "execution_count": 163,
   "id": "a44e4037-2af2-4756-954c-1bcb7043a0f9",
   "metadata": {},
   "outputs": [],
   "source": [
    "RAW=\"\"\"6,10\n",
    "0,14\n",
    "9,10\n",
    "0,3\n",
    "10,4\n",
    "4,11\n",
    "6,0\n",
    "6,12\n",
    "4,1\n",
    "0,13\n",
    "10,12\n",
    "3,4\n",
    "3,0\n",
    "8,4\n",
    "1,10\n",
    "2,14\n",
    "8,10\n",
    "9,0\n",
    "\n",
    "fold along y=7\n",
    "fold along x=5\"\"\"\n",
    "\n",
    "def parse(text:str)->list[set[tuple], list[tuple[str,int]]]:\n",
    "    points, folds = text.split(\"\\n\\n\")\n",
    "    points_parsed = set()\n",
    "    for p in points.splitlines():\n",
    "        if p:\n",
    "            x,y = p.split(\",\")\n",
    "        points_parsed.add((int(x),int(y)))\n",
    "    \n",
    "    folds_parsed =[]\n",
    "    for fold in folds.splitlines():\n",
    "        _,_,k = fold.split(\" \")\n",
    "        axis, num = k.split(\"=\")\n",
    "        folds_parsed.append((axis, int(num)))\n",
    "    return [points_parsed, folds_parsed]\n",
    "                            \n",
    "\n",
    "def exec_fold(points:set[tuple[int,int]], fold:tuple[str,int]):\n",
    "    axis, num = fold\n",
    "    new_points = set()\n",
    "    if axis == 'y':\n",
    "        for x, y in points:\n",
    "            if y < num:\n",
    "                new_points.add((x,y))\n",
    "            else:\n",
    "                deltay = y - num\n",
    "                new_y = abs(num-deltay)\n",
    "                new_points.add((x, new_y))\n",
    "    else:\n",
    "        for x, y in points:\n",
    "            if x < num:\n",
    "                new_points.add((x,y))\n",
    "            else:\n",
    "                deltax = x - num\n",
    "                new_x = abs(deltax - num)\n",
    "                new_points.add((new_x, y))\n",
    "    return new_points\n",
    "                \n",
    "\n",
    "def fold_all(points, folds):\n",
    "    \"\"\"\n",
    "    Execute all folds\n",
    "    \"\"\"\n",
    "    new_points = [points]\n",
    "    for fold in folds:\n",
    "        curr_points= new_points.pop()\n",
    "        new_points.append(exec_fold(curr_points, fold))\n",
    "    return new_points.pop()\n",
    "\n",
    "def render_code(points:set[tuple[int,int]])->str:\n",
    "    \n",
    "    xmax = max(x for x, y in points)\n",
    "    ymax = max(y for _, y in points)\n",
    "    \n",
    "    grid = []\n",
    "    for i in range(ymax+1):\n",
    "        row = []\n",
    "        for j in range(xmax+1):\n",
    "            if (j,i) in points:\n",
    "                row.append(\"#\")\n",
    "            else:\n",
    "                row.append(\" \")\n",
    "            row_str = \"\".join(row)\n",
    "        grid.append(row_str)\n",
    "    return \"\\n\".join(grid)\n",
    "        "
   ]
  },
  {
   "cell_type": "code",
   "execution_count": 164,
   "id": "4f0a0849-c348-4ff0-ab30-3b57ea762e43",
   "metadata": {},
   "outputs": [
    {
     "name": "stdout",
     "output_type": "stream",
     "text": [
      "#####\n",
      "#   #\n",
      "#   #\n",
      "#   #\n",
      "#####\n"
     ]
    }
   ],
   "source": [
    "points, folds = parse(RAW)\n",
    "final_points = fold_all(points, folds)\n",
    "grid = render_code(final_points)\n",
    "print(grid)"
   ]
  },
  {
   "cell_type": "code",
   "execution_count": 165,
   "id": "e721398d-6768-4844-a826-6c6b6686edde",
   "metadata": {},
   "outputs": [
    {
     "name": "stdout",
     "output_type": "stream",
     "text": [
      "p1 827\n",
      "p2\n",
      "####  ##  #  # #  # ###  ####  ##  ### \n",
      "#    #  # #  # # #  #  # #    #  # #  #\n",
      "###  #  # #### ##   #  # ###  #    #  #\n",
      "#    #### #  # # #  ###  #    #    ### \n",
      "#    #  # #  # # #  # #  #    #  # #   \n",
      "#### #  # #  # #  # #  # ####  ##  #   \n"
     ]
    }
   ],
   "source": [
    "points, folds = parse(RAW)\n",
    "fold  = iter(folds)\n",
    "points = exec_fold(points, next(fold))\n",
    "assert len(points) == 17\n",
    "assert len(exec_fold(points, next(fold))) == 16\n",
    "\n",
    "with open('inputs/day13.txt') as f:\n",
    "    text = f.read()\n",
    "    points, folds = parse(text)\n",
    "    first_fold = next(fold for fold in folds)\n",
    "    points1 = exec_fold(points, first_fold)\n",
    "    print(\"p1\", len(points1))\n",
    "    final_points = fold_all(points, folds)\n",
    "    print(\"p2\", render_code(final_points), sep=\"\\n\")\n"
   ]
  },
  {
   "cell_type": "code",
   "execution_count": null,
   "id": "2eb93df2-2722-4330-b7c5-a30acb25459d",
   "metadata": {},
   "outputs": [],
   "source": []
  }
 ],
 "metadata": {
  "kernelspec": {
   "display_name": "Python 3 (ipykernel)",
   "language": "python",
   "name": "python3"
  },
  "language_info": {
   "codemirror_mode": {
    "name": "ipython",
    "version": 3
   },
   "file_extension": ".py",
   "mimetype": "text/x-python",
   "name": "python",
   "nbconvert_exporter": "python",
   "pygments_lexer": "ipython3",
   "version": "3.9.2"
  }
 },
 "nbformat": 4,
 "nbformat_minor": 5
}
