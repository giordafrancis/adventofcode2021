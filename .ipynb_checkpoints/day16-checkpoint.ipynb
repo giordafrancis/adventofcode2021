{
 "cells": [
  {
   "cell_type": "code",
   "execution_count": 48,
   "id": "f9e59d15-ed66-4026-a9a6-9d17f5df6a18",
   "metadata": {},
   "outputs": [],
   "source": [
    "from typing import Sequence, Optional, List, Tuple\n",
    "from dataclasses import dataclass\n",
    "from functools import reduce\n",
    "\n",
    "def hex_char_to_bin(hex_char:str)->str:#\n",
    "    \"\"\"Convert a hex Character to a 4-bit binary string\"\"\"\n",
    "    return bin(int(hex_char, 16))[2:].zfill(4)"
   ]
  },
  {
   "cell_type": "code",
   "execution_count": 49,
   "id": "f57eb0ca-ce7a-4027-902f-0492ae91676e",
   "metadata": {},
   "outputs": [],
   "source": [
    "def hex_to_bin(hex_str:str)->str:\n",
    "    return \"\".join(hex_char_to_bin(hex_char) for hex_char in hex_str)\n",
    "\n",
    "assert hex_to_bin(\"D2FE28\") == \"110100101111111000101000\""
   ]
  },
  {
   "cell_type": "code",
   "execution_count": 57,
   "id": "2aeb5dea-341f-4393-8c10-4d8651843142",
   "metadata": {
    "tags": []
   },
   "outputs": [],
   "source": [
    "@dataclass\n",
    "class Packet:\n",
    "    version: int\n",
    "    type_id: int\n",
    "    subpackets: Sequence['Packet'] = ()\n",
    "    value: Optional[int] = None\n",
    "    \n",
    "    def sum_of_versions(self) -> int:\n",
    "        return self.version + sum(packet.sum_of_versions() \n",
    "                                  for packet in self.subpackets)\n",
    "@dataclass\n",
    "class Bitstream:\n",
    "    bits: str\n",
    "    index:int=0\n",
    "    \n",
    "    def read(self, num_bits:int)->str:\n",
    "        if num_bits > len(self.bits) - self.index:\n",
    "            raise ValueError(f\"Not enough bits left to read {num_bits}\")\n",
    "        result = self.bits[self.index:self.index + num_bits]\n",
    "        self.index += num_bits\n",
    "        return result\n",
    "\n",
    "    \n",
    "def _parse(bitstream: Bitstream)->Packet:\n",
    "    \"\"\"\n",
    "    Parse a single packet from a bitstram,\n",
    "    consuming the bits that make it up\n",
    "    \"\"\"\n",
    "    \n",
    "    # first three bits are the version in binary\n",
    "    version = int(bitstream.read(3), 2)\n",
    "    # next three are the type id in binary\n",
    "    type_id = int(bitstream.read(3), 2)\n",
    "    \n",
    "    # the packet starts after that\n",
    "    if type_id == 4:\n",
    "        # literal\n",
    "        digits = []\n",
    "        while bitstream.read(1) == '1':\n",
    "            digits.append(bitstream.read(4))\n",
    "        # and now we have the last byte\n",
    "        digits.append(bitstream.read(4))\n",
    "        \n",
    "        value = int(\"\".join(digits), 2)\n",
    "        \n",
    "        packet = Packet(version, type_id, value=value)\n",
    "        return packet\n",
    "    else:\n",
    "        # operator\n",
    "        length_type_id = bitstream.read(1)\n",
    "        num_subpacks = length = None\n",
    "        if length_type_id == \"0\":\n",
    "            # length specified as \"total lenght in bytes\"\n",
    "            length = int(bitstream.read(15), 2)\n",
    "            end = bitstream.index + length\n",
    "            \n",
    "            subpackets = []\n",
    "            while True:\n",
    "                subpacket = _parse(bitstream)\n",
    "                subpackets.append(subpacket)\n",
    "                if bitstream.index >= end:\n",
    "                    break\n",
    "            packet = Packet(version, type_id, subpackets=subpackets)\n",
    "            return packet\n",
    "        elif length_type_id == \"1\":\n",
    "            # length specified as number of subpackets\n",
    "            num_subpackets = int(bitstream.read(11), 2)\n",
    "            subpackets = []\n",
    "            while len(subpackets) < num_subpackets:\n",
    "                subpacket = _parse(bitstream)\n",
    "                subpackets.append(subpacket)\n",
    "            packet = Packet(version, type_id, subpackets=subpackets)\n",
    "            return packet\n",
    "        else:\n",
    "            raise ValueError(f\"Unknown length type id:{length_type_id}\")\n",
    "\n",
    "            \n",
    "def parse(raw:str, hex:bool=True)->Packet:\n",
    "    if hex:\n",
    "        bits=Bitstream(hex_to_bin(raw))\n",
    "    else:\n",
    "        bits=Bitstream(raw)\n",
    "    return _parse(bits)\n",
    "\n",
    "def add_up_all_version_numbers(hex_string:str)->int:\n",
    "    \"\"\"Add up all version numbers in a hex string\"\"\"\n",
    "    packet = parse(hex_string)\n",
    "    return packet.sum_of_versions()\n",
    "\n",
    "assert add_up_all_version_numbers('8A004A801A8002F478') == 16\n",
    "assert add_up_all_version_numbers('620080001611562C8802118E34') == 12\n",
    "assert add_up_all_version_numbers('C0015000016115A2E0802F182340') == 23\n",
    "assert add_up_all_version_numbers('A0016C880162017C3686B18A3D4780') == 31"
   ]
  },
  {
   "cell_type": "code",
   "execution_count": null,
   "id": "9318b34a-0d1b-412c-9289-440f0c8d93a4",
   "metadata": {},
   "outputs": [],
   "source": []
  },
  {
   "cell_type": "code",
   "execution_count": 40,
   "id": "9012d172-d742-4f38-8ffd-cf56ebb3e70e",
   "metadata": {},
   "outputs": [
    {
     "data": {
      "text/plain": [
       "'1'"
      ]
     },
     "execution_count": 40,
     "metadata": {},
     "output_type": "execute_result"
    }
   ],
   "source": [
    "bits = Bitstream(hex_to_bin('D2FE28'))\n",
    "bits.read(1)"
   ]
  },
  {
   "cell_type": "code",
   "execution_count": 41,
   "id": "c2d4c4ee-1209-4f38-9270-d5beaf1d82aa",
   "metadata": {},
   "outputs": [
    {
     "data": {
      "text/plain": [
       "'1'"
      ]
     },
     "execution_count": 41,
     "metadata": {},
     "output_type": "execute_result"
    }
   ],
   "source": [
    "bits.read(1)"
   ]
  },
  {
   "cell_type": "code",
   "execution_count": 42,
   "id": "576c1876-011d-4d0b-80cb-827fd6b678c9",
   "metadata": {},
   "outputs": [
    {
     "data": {
      "text/plain": [
       "'0'"
      ]
     },
     "execution_count": 42,
     "metadata": {},
     "output_type": "execute_result"
    }
   ],
   "source": [
    "bits.read(1)"
   ]
  },
  {
   "cell_type": "code",
   "execution_count": null,
   "id": "7cb638a3-8f76-4926-b9b6-1390fdacbf68",
   "metadata": {},
   "outputs": [],
   "source": []
  }
 ],
 "metadata": {
  "kernelspec": {
   "display_name": "Python 3",
   "language": "python",
   "name": "python3"
  },
  "language_info": {
   "codemirror_mode": {
    "name": "ipython",
    "version": 3
   },
   "file_extension": ".py",
   "mimetype": "text/x-python",
   "name": "python",
   "nbconvert_exporter": "python",
   "pygments_lexer": "ipython3",
   "version": "3.8.12"
  }
 },
 "nbformat": 4,
 "nbformat_minor": 5
}
