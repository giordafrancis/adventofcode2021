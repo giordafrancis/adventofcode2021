{
 "cells": [
  {
   "cell_type": "code",
   "execution_count": 1,
   "id": "b8227f07",
   "metadata": {},
   "outputs": [
    {
     "data": {
      "text/plain": [
       "'https://adventofcode.com/2021/day/7'"
      ]
     },
     "execution_count": 1,
     "metadata": {},
     "output_type": "execute_result"
    }
   ],
   "source": [
    "\"\"\"https://adventofcode.com/2021/day/7\"\"\"\n"
   ]
  },
  {
   "cell_type": "code",
   "execution_count": 155,
   "id": "dd264f4c",
   "metadata": {},
   "outputs": [],
   "source": [
    "from typing import Tuple\n",
    "\n",
    "RAW = \"16,1,2,0,4,2,7,1,2,14\"\n",
    "INPUTS = [int(i) for i in RAW.split(\",\")]\n",
    "\n",
    "def get_min_pos(text:str)->Tuple[int, int]:\n",
    "    \n",
    "    inputs = [int(i) for i in text.split(\",\")]\n",
    "    fuel = {}\n",
    "    min_pos, max_pos = min(inputs), max(inputs)\n",
    "    for pos in range(min_pos, max_pos + 1):\n",
    "        fuel[pos] = []\n",
    "        for crab in inputs:\n",
    "            fuel[pos].append(abs(crab-pos))\n",
    "        fuel[pos] = sum(fuel[pos])\n",
    "    return min((val, key) for key, val in fuel.items())\n",
    "\n",
    "def get_min_pos2(text:str)->Tuple[int, int]:\n",
    "    \"\"\"\n",
    "    Each step increase is incremented by current step\n",
    "    plus previous position\n",
    "    \"\"\"\n",
    "    \n",
    "    inputs = [int(i) for i in text.split(\",\")]\n",
    "    fuel = {}\n",
    "    min_pos, max_pos = min(inputs), max(inputs)\n",
    "    cached_steps = {}\n",
    "    for step in range(min_pos, max_pos+1):\n",
    "        if step <= 1:\n",
    "            cached_steps[step] = 1\n",
    "        else:\n",
    "            cached_steps[step] = step + cached_steps[step-1]\n",
    "    for pos in cached_steps.keys():\n",
    "        fuel[pos] = []\n",
    "        for crab in inputs:\n",
    "            fuel[pos].append(cached_steps[abs(pos-crab)])\n",
    "        fuel[pos] = sum(fuel[pos])\n",
    "    return min((val, key) for key, val in fuel.items())\n",
    "\n"
   ]
  },
  {
   "cell_type": "code",
   "execution_count": 156,
   "id": "fc5096d0",
   "metadata": {},
   "outputs": [
    {
     "name": "stdout",
     "output_type": "stream",
     "text": [
      "p1 (333755, 331)\n",
      "p2 (94017638, 465)\n"
     ]
    }
   ],
   "source": [
    "with open('inputs/day7.txt') as f:\n",
    "    PUZZLE = f.read()\n",
    "    min_pos = get_min_pos(text=PUZZLE)\n",
    "    min_pos2 = get_min_pos2(text=PUZZLE)\n",
    "    print(\"p1\", min_pos)\n",
    "    print(\"p2\", min_pos2)    "
   ]
  }
 ],
 "metadata": {
  "kernelspec": {
   "display_name": "Python 3",
   "language": "python",
   "name": "python3"
  },
  "language_info": {
   "codemirror_mode": {
    "name": "ipython",
    "version": 3
   },
   "file_extension": ".py",
   "mimetype": "text/x-python",
   "name": "python",
   "nbconvert_exporter": "python",
   "pygments_lexer": "ipython3",
   "version": "3.8.12"
  }
 },
 "nbformat": 4,
 "nbformat_minor": 5
}
