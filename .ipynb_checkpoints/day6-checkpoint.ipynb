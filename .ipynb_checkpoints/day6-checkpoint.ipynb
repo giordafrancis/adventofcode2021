{
 "cells": [
  {
   "cell_type": "code",
   "execution_count": null,
   "id": "99f2b178",
   "metadata": {},
   "outputs": [],
   "source": [
    "from itertools import cycle\n",
    "from dataclasses import dataclass\n",
    "from typing import List\n",
    "\n",
    "\n",
    "RAW = \"\"\"3,4,3,1,2\"\"\"\n",
    "\n",
    "@dataclass\n",
    "class Shoal:\n",
    "    shoal:List['LanternFish']\n",
    "    \n",
    "    @staticmethod\n",
    "    def parse_shoal(inputs:str):\n",
    "        return [\n",
    "            LanternFish(curr_cycle=int(cycle))\n",
    "            for cycle in inputs.split(\",\")\n",
    "        ]\n",
    "    \n",
    "    def maternity_ward(self):\n",
    "        \"\"\"\n",
    "        Checks for in gestation flags within \n",
    "        shoal, extends shoal by n in gestation \n",
    "        flags found\n",
    "        \"\"\"\n",
    "        new_shoal = self.shoal[:]\n",
    "        baby_fish = []\n",
    "        for lf in new_shoal:\n",
    "            #print(lf.curr_cycle)\n",
    "            if lf.gestation:\n",
    "                baby_fish.append(LanternFish(run_cycle=8))\n",
    "        print(\"new baby fish\", baby_fish)\n",
    "        \n",
    "        new_shoal.extend(baby_fish)\n",
    "        print(\"new_shoal\", new_shoal)\n",
    "        self.shoal = new_shoal[:]\n",
    "    \n",
    "    def run_shoal_cycles(self):\n",
    "        \n",
    "        for lf in self.shoal:\n",
    "            lf.run_cycle()\n",
    "        self.maternity_ward()\n",
    "        \n",
    "\n",
    "        \n",
    "class LanternFish:\n",
    "    \n",
    "    def __init__(self, curr_cycle:bool=False, \n",
    "                 is_parent:bool=False):\n",
    "        self.is_parent = is_parent\n",
    "        self.gestation = False\n",
    "        self.curr_cycle = curr_cycle\n",
    "        self.create_cycles()\n",
    "        self.run_cycle()\n",
    "\n",
    "    def create_cycles(self):\n",
    "        \"\"\"\n",
    "        Counts lantership cycles\n",
    "        if parent -> cycles will last 7 days\n",
    "        9 days if fish never been a parent before\n",
    "        \"\"\"\n",
    "        \n",
    "        if self.curr_cycle > 0:\n",
    "            self.cycles = iter(range(self.curr_cycle, -1, -1))\n",
    "            self.curr_cycle = 0\n",
    "        else:\n",
    "            #print('in here cc', self.latest)\n",
    "            self.cycles = iter(range(6,-1, -1))\n",
    "            self.latest = next(self.cycles)\n",
    "            \n",
    "            \n",
    "    def run_cycle(self):\n",
    "        \"\"\"\n",
    "        run cycles\n",
    "        \"\"\"\n",
    "        try: \n",
    "            latest = next(self.cycles)\n",
    "            #print('in rc', latest)\n",
    "            self.gestation = False\n",
    "            self.latest = latest\n",
    "        except StopIteration:\n",
    "            self.gestation = True\n",
    "            self.create_cycles()\n",
    "\n",
    "            "
   ]
  },
  {
   "cell_type": "code",
   "execution_count": null,
   "id": "e62f2da1",
   "metadata": {},
   "outputs": [],
   "source": [
    "s = Shoal(shoal=Shoal.parse_shoal(inputs=RAW))"
   ]
  },
  {
   "cell_type": "code",
   "execution_count": null,
   "id": "d23c31cd",
   "metadata": {},
   "outputs": [],
   "source": [
    "[lf.latest for lf in  s.shoal]"
   ]
  },
  {
   "cell_type": "code",
   "execution_count": null,
   "id": "0286ffd6",
   "metadata": {},
   "outputs": [],
   "source": [
    "s.run_shoal_cycles()"
   ]
  },
  {
   "cell_type": "code",
   "execution_count": null,
   "id": "8e8328d1",
   "metadata": {},
   "outputs": [],
   "source": [
    "[lf.latest for lf in s.shoal]"
   ]
  },
  {
   "cell_type": "code",
   "execution_count": null,
   "id": "840472da",
   "metadata": {},
   "outputs": [],
   "source": [
    "l = LanternFish(curr_cycle=1, is_parent=True)\n",
    "l.latest , l.gestation, l.is_parent"
   ]
  },
  {
   "cell_type": "code",
   "execution_count": null,
   "id": "1c290b8d",
   "metadata": {},
   "outputs": [],
   "source": [
    "l.run_cycle()\n",
    "l.latest, l.gestation, l.is_parent"
   ]
  },
  {
   "cell_type": "code",
   "execution_count": null,
   "id": "97189e94",
   "metadata": {},
   "outputs": [],
   "source": []
  },
  {
   "cell_type": "code",
   "execution_count": null,
   "id": "328b4bcc",
   "metadata": {},
   "outputs": [],
   "source": []
  }
 ],
 "metadata": {
  "kernelspec": {
   "display_name": "Python 3",
   "language": "python",
   "name": "python3"
  },
  "language_info": {
   "codemirror_mode": {
    "name": "ipython",
    "version": 3
   },
   "file_extension": ".py",
   "mimetype": "text/x-python",
   "name": "python",
   "nbconvert_exporter": "python",
   "pygments_lexer": "ipython3",
   "version": "3.8.12"
  }
 },
 "nbformat": 4,
 "nbformat_minor": 5
}
