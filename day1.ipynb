{
 "cells": [
  {
   "cell_type": "code",
   "execution_count": 20,
   "id": "ae8bddf2-ef65-43b8-af55-2a41b2a0744d",
   "metadata": {},
   "outputs": [
    {
     "data": {
      "text/plain": [
       "'\\nhttps://adventofcode.com/2021/day/1\\n'"
      ]
     },
     "execution_count": 20,
     "metadata": {},
     "output_type": "execute_result"
    }
   ],
   "source": [
    "\"\"\"\n",
    "https://adventofcode.com/2021/day/1\n",
    "\"\"\""
   ]
  },
  {
   "cell_type": "code",
   "execution_count": 21,
   "id": "0696162a-77dc-4a77-abb9-d28d74eb223e",
   "metadata": {},
   "outputs": [
    {
     "name": "stdout",
     "output_type": "stream",
     "text": [
      "p1 result 1233\n"
     ]
    }
   ],
   "source": [
    "# PROBLEM 1\n",
    "\n",
    "test = \"\"\"199\n",
    "200\n",
    "208\n",
    "210\n",
    "200\n",
    "207\n",
    "240\n",
    "269\n",
    "260\n",
    "263\"\"\"\n",
    "\n",
    "with open('inputs/day1.txt') as f:\n",
    "    depths = list(map(int, f.readlines()))\n",
    "\n",
    "last = 1000\n",
    "count = 0\n",
    "for depth in depths:\n",
    "    if depth > last:\n",
    "        count += 1\n",
    "    last = depth\n",
    "print(\"p1 result\", count)"
   ]
  },
  {
   "cell_type": "code",
   "execution_count": 22,
   "id": "4da02f66-b5e4-4f72-8517-f948bc3ef576",
   "metadata": {},
   "outputs": [
    {
     "name": "stdout",
     "output_type": "stream",
     "text": [
      "p2 solution 1275\n"
     ]
    }
   ],
   "source": [
    "# PROBLEM 2\n",
    "\n",
    "from collections import deque\n",
    "\n",
    "test = [int(t) for t in test.split(\"\\n\")]\n",
    "\n",
    "def p2(depths):  \n",
    "    count = 0\n",
    "    window1 = deque(maxlen=3)\n",
    "    window2 = deque(maxlen=3)\n",
    "    for d1, d2 in zip(depths, depths[1:]):\n",
    "        window1.appendleft(d1)\n",
    "        window2.appendleft(d2)\n",
    "        L1 , L2 = len(window1), len(window2)\n",
    "        if L1 == L2 == 3 and sum(window2) > sum(window1):\n",
    "            count += 1\n",
    "    return count\n",
    "\n",
    "assert p2(test) == 5\n",
    "\n",
    "print(\"p2 solution\", p2(depths))"
   ]
  },
  {
   "cell_type": "code",
   "execution_count": null,
   "id": "ef5cde9c-18d5-47a5-939b-0d19e17d176b",
   "metadata": {},
   "outputs": [],
   "source": []
  }
 ],
 "metadata": {
  "kernelspec": {
   "display_name": "Python 3 (ipykernel)",
   "language": "python",
   "name": "python3"
  },
  "language_info": {
   "codemirror_mode": {
    "name": "ipython",
    "version": 3
   },
   "file_extension": ".py",
   "mimetype": "text/x-python",
   "name": "python",
   "nbconvert_exporter": "python",
   "pygments_lexer": "ipython3",
   "version": "3.9.2"
  }
 },
 "nbformat": 4,
 "nbformat_minor": 5
}
